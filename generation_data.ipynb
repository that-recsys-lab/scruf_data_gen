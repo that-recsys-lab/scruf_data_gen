{
 "cells": [
  {
   "cell_type": "code",
   "execution_count": 1,
   "id": "5c5616b1-d6d4-4096-bb8e-0d71036c586d",
   "metadata": {},
   "outputs": [],
   "source": [
    "%matplotlib inline\n",
    "\n",
    "import os\n",
    "import pandas as pd\n",
    "import math\n",
    "import re\n",
    "import seaborn as sns\n",
    "import numpy as np\n",
    "import glob\n",
    "from functools import reduce\n",
    "\n",
    "import csv\n",
    "\n",
    "from matplotlib import pyplot as plt\n",
    "import matplotlib.dates as md\n",
    "from datetime import datetime,timedelta"
   ]
  },
  {
   "cell_type": "code",
   "execution_count": 2,
   "id": "5942eff3-b63a-4b1f-a9e8-6ae0a1cd949d",
   "metadata": {},
   "outputs": [],
   "source": [
    "import matplotlib\n",
    "\n",
    "plt.rcParams['figure.figsize'] = 50, 10\n",
    "font = {'size'   : 30}\n",
    "matplotlib.rc('font', **font)"
   ]
  },
  {
   "cell_type": "code",
   "execution_count": 3,
   "id": "7cae7637-e021-4e81-a892-4bb4e5cfdd1b",
   "metadata": {},
   "outputs": [],
   "source": [
    "import random"
   ]
  },
  {
   "cell_type": "markdown",
   "id": "8e4c5ade-06c6-4d47-ab31-3fe9a319e798",
   "metadata": {},
   "source": [
    "# Input"
   ]
  },
  {
   "cell_type": "markdown",
   "id": "a23c192c-78f9-42e3-805d-0414c713d5cf",
   "metadata": {},
   "source": [
    "n = number of users\n",
    "\n",
    "m = number of items\n",
    "\n",
    "k = number of latent factors\n",
    "\n",
    "g = number of agents\n",
    "\n",
    "sigma = standard deviation of distribution\n",
    "\n",
    "A = list of user vectors (a1...an)\n",
    "\n",
    "B = list of item vectors (b1...bm)"
   ]
  },
  {
   "cell_type": "code",
   "execution_count": 20,
   "id": "3d80750b-8edc-4abe-805e-ba9614b5741c",
   "metadata": {},
   "outputs": [],
   "source": [
    "n = 3\n",
    "m = 10\n",
    "\n",
    "k = 3\n",
    "g = 2\n",
    "sigma = 1.0"
   ]
  },
  {
   "cell_type": "markdown",
   "id": "ec7c180e-3216-4026-8760-a8ef7b0f2b9b",
   "metadata": {},
   "source": [
    "delta\n",
    "l = length of recommendations list\n",
    "\n",
    "alpha = how big of a portion of items are selected - constant to be multiplied by lenght \n",
    "\n",
    "U = users latent factor matrix - scale of -1 to 1\n",
    "\n",
    "V = items latent factor matrix - binary (0/1)"
   ]
  },
  {
   "cell_type": "code",
   "execution_count": 18,
   "id": "ae930272-d0b9-4397-b5c1-ea01298959b0",
   "metadata": {},
   "outputs": [],
   "source": [
    "l = 10\n",
    "alpha = 0.5\n",
    "\n",
    "# U = np.array(\n",
    "#     [[0.0, 0.2, 0.3],\n",
    "#     [-1.0, 0.0, 0.5],\n",
    "#     [-0.6, 1.0, -3.0]])\n",
    "\n",
    "# V = np.array(\n",
    "#     [[0,1,0],\n",
    "#     [1,0,0],\n",
    "#     [1,0,1]])"
   ]
  },
  {
   "cell_type": "markdown",
   "id": "01cdfb04-f781-4816-a7fc-1676cd94f905",
   "metadata": {},
   "source": [
    "# Users/items Generation"
   ]
  },
  {
   "cell_type": "code",
   "execution_count": 6,
   "id": "49e54a6c-f440-4e18-a7d9-a26ef3344823",
   "metadata": {},
   "outputs": [],
   "source": [
    "# theoretically one function with a switch"
   ]
  },
  {
   "cell_type": "code",
   "execution_count": 48,
   "id": "cc9cf66b-7146-401f-8b2f-6ff373ae9552",
   "metadata": {},
   "outputs": [],
   "source": [
    "def generate_users(n: int, feature_propensities=None) -> list:\n",
    "    if feature_propensities is None:\n",
    "        feature_propensities = [(0.0, 1.0)] * k\n",
    "    a = []\n",
    "    for i in range(n):\n",
    "        ai = []\n",
    "        for i in range(k):\n",
    "            mu_i = feature_propensities[i][0]\n",
    "            sigma_i = feature_propensities[i][1]\n",
    "            aij = round(np.random.normal(loc=mu_i, scale=sigma_i), 2)\n",
    "            ai.append(aij)\n",
    "        a.append(ai)\n",
    "            \n",
    "    return a"
   ]
  },
  {
   "cell_type": "code",
   "execution_count": 30,
   "id": "765eadcf-eb0a-4c11-bdef-1c3573a241dd",
   "metadata": {},
   "outputs": [],
   "source": [
    "def generate_items(m: int, feature_propensities=None) -> list:\n",
    "    if feature_propensities is None:\n",
    "        feature_propensities = [0.5] * k\n",
    "    b = []\n",
    "    for i in range(m):\n",
    "        bi = []\n",
    "        for i in range(k):\n",
    "            feature_p = feature_propensities[i]\n",
    "            bij = random.choices([0, 1], weights=(1 - feature_p, feature_p))\n",
    "            bi += bij\n",
    "        b.append(bi)\n",
    "            \n",
    "    return b"
   ]
  },
  {
   "cell_type": "code",
   "execution_count": 49,
   "id": "2355af0e-fcca-4e48-b214-06402ec4959a",
   "metadata": {},
   "outputs": [],
   "source": [
    "A = generate_users(n=n)\n",
    "B = generate_items(m=m)"
   ]
  },
  {
   "cell_type": "code",
   "execution_count": 50,
   "id": "87735033-5bb2-4bac-9a1c-f56391f38086",
   "metadata": {},
   "outputs": [
    {
     "data": {
      "text/plain": [
       "[[1.87, 0.67, -0.39], [-1.18, 0.87, -0.09], [0.37, -1.05, 0.53]]"
      ]
     },
     "execution_count": 50,
     "metadata": {},
     "output_type": "execute_result"
    }
   ],
   "source": [
    "A"
   ]
  },
  {
   "cell_type": "code",
   "execution_count": 39,
   "id": "f77b081f-0639-4ff1-af2d-38ff573f529a",
   "metadata": {},
   "outputs": [
    {
     "data": {
      "text/plain": [
       "[[0, 0, 0],\n",
       " [1, 0, 1],\n",
       " [1, 0, 0],\n",
       " [0, 1, 1],\n",
       " [0, 0, 0],\n",
       " [0, 0, 0],\n",
       " [1, 0, 0],\n",
       " [0, 0, 0],\n",
       " [1, 1, 0],\n",
       " [1, 0, 1]]"
      ]
     },
     "execution_count": 39,
     "metadata": {},
     "output_type": "execute_result"
    }
   ],
   "source": [
    "B"
   ]
  },
  {
   "cell_type": "code",
   "execution_count": 51,
   "id": "70ea83b8-f850-460e-afcb-09f3ef47cb24",
   "metadata": {},
   "outputs": [],
   "source": [
    "A = generate_users(n=n, feature_propensities=[(0.0, 1.0), (0.5, 1.0), (0.9, 1.0)])"
   ]
  },
  {
   "cell_type": "code",
   "execution_count": 52,
   "id": "cb494df7-d7c4-43cf-86d3-cf0912afb467",
   "metadata": {},
   "outputs": [
    {
     "data": {
      "text/plain": [
       "[[0.54, -0.78, 1.88], [-0.09, 0.47, 0.84], [-2.0, -0.41, 1.94]]"
      ]
     },
     "execution_count": 52,
     "metadata": {},
     "output_type": "execute_result"
    }
   ],
   "source": [
    "A"
   ]
  },
  {
   "cell_type": "code",
   "execution_count": 41,
   "id": "607aa4b2-7036-4c15-8056-9c724b8f1f44",
   "metadata": {},
   "outputs": [],
   "source": [
    "B = generate_items(m=m, feature_propensities=[0.1, 0.5, 0.9])"
   ]
  },
  {
   "cell_type": "code",
   "execution_count": 42,
   "id": "c3a9b0a7-d792-4322-a7f6-f52724a0ff0e",
   "metadata": {},
   "outputs": [
    {
     "data": {
      "text/plain": [
       "[[0, 0, 1],\n",
       " [0, 1, 1],\n",
       " [0, 1, 1],\n",
       " [0, 0, 1],\n",
       " [0, 0, 1],\n",
       " [1, 0, 1],\n",
       " [0, 1, 0],\n",
       " [0, 1, 1],\n",
       " [0, 1, 1],\n",
       " [0, 0, 1]]"
      ]
     },
     "execution_count": 42,
     "metadata": {},
     "output_type": "execute_result"
    }
   ],
   "source": [
    "B"
   ]
  },
  {
   "cell_type": "markdown",
   "id": "d1de46a5-7412-4173-8f1b-fc318cba65f5",
   "metadata": {},
   "source": [
    "# Factors Generation"
   ]
  },
  {
   "cell_type": "code",
   "execution_count": 53,
   "id": "38cb987d-0dad-4470-8ca6-040a129193a6",
   "metadata": {},
   "outputs": [],
   "source": [
    "def create_user_factors(k: int, g: int, A: list, sigma: float) -> np.array:\n",
    "        U = []\n",
    "    \n",
    "        for ai in A:\n",
    "            ui = []\n",
    "            for j,aij in enumerate(ai):\n",
    "                if j+1 > g:    # not an agent factor\n",
    "                    uij = np.random.normal(loc=0.0, scale=sigma, size=None)\n",
    "                else:      # an agent factor\n",
    "                    uij = np.random.normal(loc=aij, scale=sigma, size=None)\n",
    "                ui.append(uij)\n",
    "            U.append(ui)\n",
    "        \n",
    "        \n",
    "#         TODO: does it only take g first columns? only the ones with associated agent?\n",
    "        \n",
    "        U = np.array(U)\n",
    "        return U"
   ]
  },
  {
   "cell_type": "code",
   "execution_count": 54,
   "id": "c3060427-596c-4fc9-8469-437645a90f94",
   "metadata": {},
   "outputs": [],
   "source": [
    "U = create_user_factors(k,g,A,sigma) # users\n",
    "V = create_user_factors(k,g,B,sigma) # items"
   ]
  },
  {
   "cell_type": "code",
   "execution_count": 55,
   "id": "5a6672c6-a630-4268-815a-618aa9665062",
   "metadata": {},
   "outputs": [
    {
     "data": {
      "text/plain": [
       "array([[ 1.24533955,  0.29017701,  1.0741475 ],\n",
       "       [-0.89462397, -0.42090447,  0.59256929],\n",
       "       [-2.71469512,  0.51461819,  0.29126728]])"
      ]
     },
     "execution_count": 55,
     "metadata": {},
     "output_type": "execute_result"
    }
   ],
   "source": [
    "U"
   ]
  },
  {
   "cell_type": "code",
   "execution_count": 56,
   "id": "f95cd090-7cc7-47a0-b559-8ff5cf33c451",
   "metadata": {},
   "outputs": [
    {
     "data": {
      "text/plain": [
       "array([[-0.35442687,  0.47502763,  1.35806228],\n",
       "       [ 2.65932954,  1.0879131 , -0.9979858 ],\n",
       "       [-0.10759669,  1.6630272 ,  1.10070368],\n",
       "       [ 0.8692034 ,  1.62714579,  0.00879153],\n",
       "       [-0.33483999, -0.54786854,  0.71128935],\n",
       "       [ 1.36498284, -1.42940606,  0.48044305],\n",
       "       [ 0.43710815, -1.14858875,  0.67854883],\n",
       "       [ 1.23533753, -0.37251224,  0.39145879],\n",
       "       [-0.83172551,  1.04328909, -0.86121544],\n",
       "       [ 2.40842204,  2.63912738, -0.33975952]])"
      ]
     },
     "execution_count": 56,
     "metadata": {},
     "output_type": "execute_result"
    }
   ],
   "source": [
    "V"
   ]
  },
  {
   "cell_type": "markdown",
   "id": "008b15b7-ec5a-4321-9adb-2f55c8edd173",
   "metadata": {},
   "source": [
    "# Ratings Generation"
   ]
  },
  {
   "cell_type": "code",
   "execution_count": 57,
   "id": "2165d31e-40df-4f0b-8711-e2a8c304ddb7",
   "metadata": {},
   "outputs": [],
   "source": [
    "def generating_ratings(alpha: float, l:l, U: np.array, V: np.array):\n",
    "\n",
    "    delta = int(l*alpha)\n",
    "    Vl = V.shape[0]\n",
    "    \n",
    "    with open('ratings.csv', 'w', newline='') as csvfile:\n",
    "        writer = csv.writer(csvfile, delimiter=',')\n",
    "        fields = [\"user_id\", \"item_id\", \"score\"]\n",
    "        writer.writerow(fields)\n",
    "    \n",
    "    for userId,user in enumerate(U):\n",
    "        \n",
    "        userVIds = np.random.choice(Vl, size=delta, replace=False)\n",
    "        userV = V[userVIds, :]\n",
    "\n",
    "        userScores = []\n",
    "        for itemId,item in zip(userVIds,userV):\n",
    "            score = np.dot(user, item)\n",
    "            userScores.append(tuple((itemId, score)))\n",
    "        userScores.sort(key = lambda x: x[1], reverse = True) \n",
    "\n",
    "        for i,userScore in enumerate(userScores):\n",
    "            if i >= l: # only choose L first scores\n",
    "                break\n",
    "            with open('ratings.csv', 'a', newline='') as csvfile:\n",
    "                writer = csv.writer(csvfile, delimiter=',')\n",
    "                writer.writerow([userId, userScore[0], userScore[1]])"
   ]
  },
  {
   "cell_type": "code",
   "execution_count": 58,
   "id": "69c522cd-7a4b-493f-aeba-45ac1945cee1",
   "metadata": {},
   "outputs": [],
   "source": [
    "generating_ratings(alpha=alpha,l=l,U=U,V=V)"
   ]
  },
  {
   "cell_type": "code",
   "execution_count": null,
   "id": "b1a830c6-1e18-4799-86ad-6a09e78c3991",
   "metadata": {},
   "outputs": [],
   "source": []
  },
  {
   "cell_type": "code",
   "execution_count": null,
   "id": "ce3a6e11-5404-424e-bda1-a1721fd90881",
   "metadata": {},
   "outputs": [],
   "source": []
  }
 ],
 "metadata": {
  "kernelspec": {
   "display_name": "Python 3 (ipykernel)",
   "language": "python",
   "name": "python3"
  },
  "language_info": {
   "codemirror_mode": {
    "name": "ipython",
    "version": 3
   },
   "file_extension": ".py",
   "mimetype": "text/x-python",
   "name": "python",
   "nbconvert_exporter": "python",
   "pygments_lexer": "ipython3",
   "version": "3.9.13"
  }
 },
 "nbformat": 4,
 "nbformat_minor": 5
}
